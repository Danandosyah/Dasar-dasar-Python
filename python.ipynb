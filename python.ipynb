Apa itu python?
Python merupakan bahasa pemrograman tingkat tinggi yang diracik oleh Guido van Rossum.
Python banyak digunakan untuk membuat berbagai macam program, seperti: program CLI, Program GUI (desktop), Aplikasi Mobile, Web, IoT, Game, Program untuk Hacking, dsb.
Python juga dikenal dengan bahasa pemrograman yang mudah dipelajari, karena struktur sintaknya rapi dan mudah dipahami.

Kenapa belajar Python?
Cepat dan efektif
Mudah dipelajari
Banyak digunakan di perusahaan besar

#Tipe data pada python
tipe data INTEGER
>>> 2 + 4
6

tipe data FLOAT
>>> b = 1,6
>>> b

tipe data COMPLEX
>>> c = 4 + 3j
>>> type(c)
>>> c.real
4.0
>>> c.imag
3.0

tipe data BOOLEAN
>>> 5 < 4
FALSE
>>> 4 < 5
TRUE

tipe data LIST
>>> l = [1, 2, 3, 4, 5, 6, 7, 8, 9, 10]
>>> type(l)
LIST

tipe data STRING
>>> a = "Hello world"
>>> a
"Hello world"

tipe data DICTIONARY
>>> dict = {}
>>> dict['satu'] = "angka1"
>>> dict['dua'] = "angka2"
>>> print dict['satu']
angka1

tipe data TUPLES
>>> tuple = ('abcd', 0812,'nando',10.0)
>>> print tuple
('abcd', 0812,'nando',10.0)
>>> print tuple[0] #print elemen ke-1
abcd

tipe data SET
>>> h = set(('a','b','c','d','a'))
>>> h
set(['a','b','c'])

tipe data WHILE
>>> count = 0
>>> while (count < 10)
>>> print 'Perhitungan ke: ', count
>>> count = count + 1
Perhitungan ke:0
Perhitungan ke:1
Perhitungan ke:2
Perhitungan ke:3
Perhitungan ke:4
Perhitungan ke:5
Perhitungan ke:6
Perhitungan ke:7
Perhitungan ke:8
Perhitungan ke:9
                                
